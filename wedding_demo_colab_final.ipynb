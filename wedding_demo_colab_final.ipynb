{
 "cells": [
  {
   "cell_type": "markdown",
   "id": "7fa3dc32",
   "metadata": {},
   "source": [
    "# Wedding AI Demo - Final版\n",
    "\n",
    "本Notebook用于AI婚纱照生成，包括DreamBooth训练 + ControlNet姿势控制。"
   ]
  },
  {
   "cell_type": "code",
   "execution_count": null,
   "id": "136a9dab",
   "metadata": {},
   "outputs": [],
   "source": [
    "# 1. 安装依赖\n",
    "!pip install diffusers==0.20.2 transformers==4.30.2 accelerate==0.21.0 xformers==0.0.20 safetensors gradio\n"
   ]
  },
  {
   "cell_type": "code",
   "execution_count": null,
   "id": "08539e4a",
   "metadata": {},
   "outputs": [],
   "source": [
    "# 2. 挂载Google Drive\n",
    "from google.colab import drive\n",
    "drive.mount('/content/drive')\n"
   ]
  },
  {
   "cell_type": "code",
   "execution_count": null,
   "id": "69ffa66d",
   "metadata": {},
   "outputs": [],
   "source": [
    "# 3. 解压素材\n",
    "!unzip /content/drive/MyDrive/wedding_demo_data/demo_wedding_input.zip -d /content/data/\n"
   ]
  },
  {
   "cell_type": "code",
   "execution_count": null,
   "id": "7c708719",
   "metadata": {},
   "outputs": [],
   "source": [
    "# 4. 登录 HuggingFace\n",
    "from huggingface_hub import login\n",
    "login(\"你的 Hugging Face Token\") # 请替换成你自己的token\n"
   ]
  },
  {
   "cell_type": "code",
   "execution_count": null,
   "id": "92a06b57",
   "metadata": {},
   "outputs": [],
   "source": [
    "# 5. 加载Stable Diffusion模型\n",
    "from diffusers import StableDiffusionPipeline, DDIMScheduler\n",
    "import torch\n",
    "\n",
    "pretrained_model_name_or_path = \"runwayml/stable-diffusion-v1-5\"\n",
    "pipe = StableDiffusionPipeline.from_pretrained(\n",
    "    pretrained_model_name_or_path,\n",
    "    torch_dtype=torch.float16,\n",
    "    revision=\"fp16\",\n",
    "    safety_checker=None\n",
    ").to(\"cuda\")\n",
    "\n",
    "pipe.scheduler = DDIMScheduler.from_config(pipe.scheduler.config)\n",
    "\n",
    "print(\"✅ Stable Diffusion模型加载完成\")\n"
   ]
  },
  {
   "cell_type": "code",
   "execution_count": null,
   "id": "c0f51a99",
   "metadata": {},
   "outputs": [],
   "source": [
    "# 6. TODO: DreamBooth微调训练逻辑（预留）\n",
    "print(\"此处预留DreamBooth训练流程，可以根据需求添加。\")\n"
   ]
  },
  {
   "cell_type": "code",
   "execution_count": null,
   "id": "e19552b6",
   "metadata": {},
   "outputs": [],
   "source": [
    "# 7. TODO: ControlNet生图逻辑（预留）\n",
    "print(\"此处预留ControlNet推理流程，可以根据需求添加。\")\n"
   ]
  },
  {
   "cell_type": "markdown",
   "id": "06c0dbc7",
   "metadata": {},
   "source": [
    "⚡ 以上是完整基础框架，可按自己素材继续补充训练、生图细节。"
   ]
  }
 ],
 "metadata": {},
 "nbformat": 4,
 "nbformat_minor": 5
}
